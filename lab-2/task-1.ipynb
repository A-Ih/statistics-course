{
 "cells": [
  {
   "cell_type": "markdown",
   "source": [
    "# Задание 1 (Вариант 5)\n",
    "Все выкладки находятся в письменном виде в `notes/`\n",
    "\n",
    "Распределение выборки: $U[0,\\theta]$\n",
    "\n",
    "Априорное распределение: $\\operatorname{Pareto}(x_0,\\alpha)$ (в моём варианте - $\\operatorname{Pareto}(1,1)$)\n",
    "\n",
    "Апостериорное распределение: $\\operatorname{Pareto}(max(X_{(n)},x_0), n+\\alpha)$ (в моём варианте - $\\operatorname{Pareto}(max(X_{(n)},1), n+1)$)\n",
    "\n",
    "Математическое ожидание: $E_{\\theta}(T^{*})=\n",
    "    \\frac{n+\\alpha}{n+\\alpha-1}\n",
    "    \\cdot\\frac{1}{\\theta^n}\n",
    "    \\cdot\\frac{x_0^{n+1}}{n+1} +\n",
    "    \\frac{n+\\alpha}{n+\\alpha-1}\n",
    "    \\cdot\\frac{n}{n+1}\n",
    "    \\cdot\\theta$\n",
    "\n",
    "Смещение ($E_{\\theta}(T^{*})-\\theta$): $E_{\\theta}(T^{*}) - \\theta=\n",
    "    \\frac{n+\\alpha}{n+\\alpha-1}\n",
    "    \\cdot\\frac{1}{\\theta^n}\n",
    "    \\cdot\\frac{x_0^{n+1}}{n+1} +\n",
    "    \\frac{n+\\alpha}{n+\\alpha-1}\n",
    "    \\cdot\\frac{n}{n+1}\n",
    "    \\cdot\\theta -\n",
    "    \\theta\n",
    "    \\xrightarrow[n\\rightarrow\\infty]{} 0$\n",
    "\n",
    "Дисперсия: $DT^{*}=\n",
    "\\left(\n",
    "    \\frac{2x_0^{n+2}}{\\theta^n(n+2)} -\n",
    "    \\frac{x_0^{2n+2}}{\\theta^{2n}(n+1)^2} +\n",
    "    \\frac{\\theta^2n}{(n+2)(n+1)^2} +\n",
    "    \\frac{2nx_0^{n+1}}{\\theta^{n-1}(n+1)^2}\n",
    "\\right) \\cdot\n",
    "\\left(\n",
    "    \\frac{n+\\alpha}{n+\\alpha-1}\n",
    "\\right)^2\n",
    "\\xrightarrow[n\\rightarrow\\infty]{} 0$\n",
    "\n",
    "Среднеквадратическая ошибка: $R(T^{*},\\theta)=\n",
    "E_{\\theta} e(T^{*},\\theta)=\n",
    "E_{\\theta} (T-\\theta)^2=\n",
    "\\theta^2 \\cdot\n",
    "\\left(\n",
    "    \\left(\n",
    "        \\frac{n+\\alpha}{n+\\alpha-1}\n",
    "    \\right)^2 \\cdot \\frac{n}{n+2} +\n",
    "    1 -\n",
    "    2 \\cdot \\frac{n+\\alpha}{n+\\alpha-1} \\cdot \\frac{n}{n+1}\n",
    "\\right) +\n",
    "\\frac{x_0^n}{\\theta^n} \\cdot\n",
    "\\left(\n",
    "    \\left(\n",
    "        \\frac{n+\\alpha}{n+\\alpha-1}\n",
    "    \\right)^2 \\cdot \\frac{2x_0^2}{n+2} -\n",
    "    2 \\cdot \\frac{n+\\alpha}{n+\\alpha-1} \\cdot \\frac{x_0\\theta}{n+1}\n",
    "\\right)\n",
    "\\xrightarrow[n\\rightarrow\\infty]{} 0$\n",
    "\n",
    "Байесовский риск: получил расходящийся интеграл при $\\alpha <= 2$\n",
    "\n",
    "Нужно провести 500 экспериментов с $\\theta$ из априорного распределения ($n=100$)"
   ],
   "metadata": {
    "collapsed": false
   }
  },
  {
   "cell_type": "code",
   "execution_count": 39,
   "outputs": [
    {
     "name": "stdout",
     "output_type": "stream",
     "text": [
      "class:  ndarray\n",
      "shape:  (500, 100000)\n",
      "strides:  (800000, 8)\n",
      "itemsize:  8\n",
      "aligned:  True\n",
      "contiguous:  True\n",
      "fortran:  False\n",
      "data pointer: 0x7fa35c287010\n",
      "byteorder:  little\n",
      "byteswap:  False\n",
      "type: float64\n"
     ]
    }
   ],
   "source": [
    "import numpy as np\n",
    "\n",
    "RNG = np.random.default_rng(0)\n",
    "\n",
    "experiments = 500\n",
    "n = 100000\n",
    "\n",
    "# m === x0 - scale\n",
    "m = 1.0\n",
    "# a === alpha - shape\n",
    "a = 1.0\n",
    "\n",
    "theta = RNG.pareto(a, size=experiments)\n",
    "exps = np.array([RNG.uniform(0, th, size=n) for th in theta])\n",
    "\n",
    "np.info(exps)\n",
    "# exps"
   ],
   "metadata": {
    "collapsed": false
   }
  },
  {
   "cell_type": "code",
   "execution_count": 40,
   "outputs": [
    {
     "name": "stdout",
     "output_type": "stream",
     "text": [
      "Оценка отличается от настоящего значения более чем на 0.05 236 раз (всего 500 экспериментов)\n"
     ]
    },
    {
     "data": {
      "text/plain": "<Figure size 640x480 with 1 Axes>",
      "image/png": "[encoded data removed]"
     },
     "metadata": {},
     "output_type": "display_data"
    }
   ],
   "source": [
    "bayesEstimator = (n+a)/(n+a-1)*np.clip(np.amax(exps, axis=1), a_min=m, a_max=None)\n",
    "\n",
    "diff = abs(bayesEstimator - theta)\n",
    "print(\"Оценка отличается от настоящего значения более чем на 0.05 {} раз (всего {} экспериментов)\".format((diff > 0.05).sum(), experiments))\n",
    "\n",
    "import matplotlib.pyplot as plt\n",
    "\n",
    "plt.hist(diff, bins=60)\n",
    "plt.xlabel(r'$\\left|T^{*}-\\theta\\right|$')\n",
    "plt.ylabel('Количество разниц')\n",
    "plt.show()"
   ],
   "metadata": {
    "collapsed": false
   }
  },
  {
   "cell_type": "code",
   "execution_count": 38,
   "outputs": [
    {
     "data": {
      "text/plain": "<Figure size 640x480 with 1 Axes>",
      "image/png": "[encoded data removed]"
     },
     "metadata": {},
     "output_type": "display_data"
    }
   ],
   "source": [
    "plt.boxplot(diff, vert=False)\n",
    "plt.xlabel(r'$\\left|T^{*}-\\theta\\right|$')\n",
    "plt.show()"
   ],
   "metadata": {
    "collapsed": false
   }
  },
  {
   "cell_type": "code",
   "execution_count": null,
   "outputs": [],
   "source": [],
   "metadata": {
    "collapsed": false
   }
  }
 ],
 "metadata": {
  "kernelspec": {
   "display_name": "Python 3",
   "language": "python",
   "name": "python3"
  },
  "language_info": {
   "codemirror_mode": {
    "name": "ipython",
    "version": 2
   },
   "file_extension": ".py",
   "mimetype": "text/x-python",
   "name": "python",
   "nbconvert_exporter": "python",
   "pygments_lexer": "ipython2",
   "version": "2.7.6"
  }
 },
 "nbformat": 4,
 "nbformat_minor": 0
}

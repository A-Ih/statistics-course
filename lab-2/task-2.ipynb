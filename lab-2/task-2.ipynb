{
 "cells": [
  {
   "cell_type": "markdown",
   "source": [
    "# Задание 2\n",
    "Все выклыдки находятся в письменном виде в `notes/`\n",
    "\n",
    "Распределение выборки: $X_1,\\ldots,X_n \\sim \\operatorname{Geom}(\\theta)$\n",
    "\n",
    "Используемая параметризация: $p_{\\theta}(x)=(1-\\theta)^{x-1} \\cdot \\theta$, где x - это количество испытаний до первого успешного\n",
    "\n",
    "Оценка методом моментов: $\\hat{\\theta}=\\frac{1}{\\overline{X}}$\n",
    "\n",
    "Матожидание: $$E_{\\theta}\\frac{1}{\\overline{X}}=\n",
    "\\frac{n}{\\Gamma(n)} \\cdot\n",
    "\\left( \\frac{p}{q} \\right)^n \\cdot\n",
    "\\sum_{k=n}^{\\infty} \\frac{q^k}{k} \\cdot \\frac{\\Gamma(k)}{\\Gamma(k-n+1)}\n",
    "$$\n",
    "\n",
    "Смещение: $$E_{\\theta}\\frac{1}{\\overline{X}} - \\theta=\n",
    "\\frac{n}{\\Gamma(n)} \\cdot\n",
    "\\left( \\frac{p}{q} \\right)^n \\cdot\n",
    "\\sum_{k=n}^{\\infty} \\frac{q^k}{k} \\cdot \\frac{\\Gamma(k)}{\\Gamma(k-n+1)}\n",
    "- \\theta\n",
    "$$\n",
    "\n",
    "Дисперсия: $$D_{\\theta}\\frac{1}{\\overline{X}} =\n",
    "\\frac{n}{\\Gamma(n)} \\left(\\frac{p}{q}\\right)^n\n",
    "\\left(\n",
    "    \\sum_{k=n}^{\\infty}\\frac{q^k}{k^2} \\frac{\\Gamma(k)}{\\Gamma(k-n+1)}-\n",
    "    2\\theta \\frac{n}{\\Gamma(n)} \\left(\\frac{p}{q}\\right)\n",
    "    \\sum_{k=n}^{\\infty}\\frac{q^k}{k} \\frac{\\Gamma(k)}{\\Gamma(k-n+1)}\n",
    "\\right)\n",
    "$$\n",
    "\n",
    "Среднеквадратическая ошибка: $$R(\\hat{\\theta},\\theta) =\n",
    "\\frac{n}{\\Gamma(n)}\n",
    "\\left( \\frac{p}{q} \\right)^n\n",
    "\\sum_{k=n}^{\\infty} \\frac{q^k}{k^2} \\frac{\\Gamma(k)}{\\Gamma(k-n+1)} -\n",
    "2\\theta \\frac{n}{\\Gamma(n)}\n",
    "\\left( \\frac{p}{q} \\right)^n\n",
    "\\sum_{k=n}^{\\infty} \\frac{q^k}{k} \\frac{\\Gamma(k)}{\\Gamma(k-n+1)} -\n",
    "\\theta^2\n",
    "$$\n",
    "\n",
    "Оценка среднеквадратической ошибки: найти не удалось :(\n",
    "\n",
    "Нужно для $\\theta=0.25$ сгенерировать 100 выборок и вычислить оценки и разницу между оценкой и настоящим значением."
   ],
   "metadata": {
    "collapsed": false
   }
  },
  {
   "cell_type": "code",
   "execution_count": 19,
   "outputs": [
    {
     "name": "stdout",
     "output_type": "stream",
     "text": [
      "class:  ndarray\n",
      "shape:  (100, 100)\n",
      "strides:  (800, 8)\n",
      "itemsize:  8\n",
      "aligned:  True\n",
      "contiguous:  True\n",
      "fortran:  False\n",
      "data pointer: 0x558e2465c9a0\n",
      "byteorder:  little\n",
      "byteswap:  False\n",
      "type: int64\n"
     ]
    }
   ],
   "source": [
    "import numpy as np\n",
    "\n",
    "np.random.seed(0)\n",
    "RNG = np.random.default_rng()\n",
    "\n",
    "experiments = 100\n",
    "n = 100\n",
    "\n",
    "theta = 0.25\n",
    "\n",
    "exps = np.array([RNG.geometric(theta, size=n) for _ in range(0, experiments)])\n",
    "\n",
    "np.info(exps)"
   ],
   "metadata": {
    "collapsed": false
   }
  },
  {
   "cell_type": "code",
   "execution_count": 20,
   "outputs": [
    {
     "name": "stdout",
     "output_type": "stream",
     "text": [
      "Оценка отличается от настоящего значения более чем на 0.05 2 раз (всего 100 экспериментов)\n"
     ]
    },
    {
     "data": {
      "text/plain": "<Figure size 640x480 with 1 Axes>",
      "image/png": "[encoded data removed]"
     },
     "metadata": {},
     "output_type": "display_data"
    }
   ],
   "source": [
    "momentEstimator = np.ones(experiments) / (exps.sum(axis=1) / n)\n",
    "\n",
    "diff = abs(momentEstimator - theta)\n",
    "print(\"Оценка отличается от настоящего значения более чем на 0.05 {} раз (всего {} экспериментов)\".format((diff > 0.05).sum(), experiments))\n",
    "\n",
    "import matplotlib.pyplot as plt\n",
    "\n",
    "plt.hist(diff, bins=60)\n",
    "plt.xlabel(r'$\\left|\\hat{\\theta}-\\theta\\right|$')\n",
    "plt.ylabel('Колечество разниц')\n",
    "plt.show()"
   ],
   "metadata": {
    "collapsed": false
   }
  },
  {
   "cell_type": "code",
   "execution_count": null,
   "outputs": [],
   "source": [],
   "metadata": {
    "collapsed": false
   }
  }
 ],
 "metadata": {
  "kernelspec": {
   "display_name": "Python 3",
   "language": "python",
   "name": "python3"
  },
  "language_info": {
   "codemirror_mode": {
    "name": "ipython",
    "version": 2
   },
   "file_extension": ".py",
   "mimetype": "text/x-python",
   "name": "python",
   "nbconvert_exporter": "python",
   "pygments_lexer": "ipython2",
   "version": "2.7.6"
  }
 },
 "nbformat": 4,
 "nbformat_minor": 0
}

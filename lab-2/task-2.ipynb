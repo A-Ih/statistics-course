{
 "cells": [
  {
   "cell_type": "markdown",
   "source": [
    "# Задание 2\n",
    "Все выклыдки находятся в письменном виде в `notes/`\n",
    "\n",
    "Распределение выборки: $X_1,\\ldots,X_n \\sim \\operatorname{Geom}(\\theta)$\n",
    "\n",
    "Оценка методом моментов: $\\hat{\\theta}=\\frac{1}{\\overline{X}}$\n",
    "\n",
    "Матожидание: $$E_{\\theta}\\frac{1}{\\overline{X}}=\n",
    "\\frac{n}{\\Gamma(n)} \\cdot\n",
    "\\left( \\frac{p}{q} \\right)^n \\cdot\n",
    "\\sum_{k=n}^{\\infty} \\frac{q^k}{k} \\cdot \\frac{\\Gamma(k)}{\\Gamma(k-n+1)}\n",
    "$$\n",
    "\n",
    "Смещение: $$E_{\\theta}\\frac{1}{\\overline{X}} - \\theta=\n",
    "\\frac{n}{\\Gamma(n)} \\cdot\n",
    "\\left( \\frac{p}{q} \\right)^n \\cdot\n",
    "\\sum_{k=n}^{\\infty} \\frac{q^k}{k} \\cdot \\frac{\\Gamma(k)}{\\Gamma(k-n+1)}\n",
    "- \\theta\n",
    "$$\n",
    "\n",
    "Дисперсия: $$D_{\\theta}\\frac{1}{\\overline{X}} =\n",
    "\\frac{n}{\\Gamma(n)} \\left(\\frac{p}{q}\\right)^n\n",
    "\\left(\n",
    "    \\sum_{k=n}^{\\infty}\\frac{q^k}{k^2} \\frac{\\Gamma(k)}{\\Gamma(k-n+1)}-\n",
    "    2\\theta \\frac{n}{\\Gamma(n)} \\left(\\frac{p}{q}\\right)\n",
    "    \\sum_{k=n}^{\\infty}\\frac{q^k}{k} \\frac{\\Gamma(k)}{\\Gamma(k-n+1)}\n",
    "\\right)\n",
    "$$\n",
    "\n",
    "Среднеквадратическая ошибка: $$R(\\hat{\\theta},\\theta) =\n",
    "\\frac{n}{\\Gamma(n)}\n",
    "\\left( \\frac{p}{q} \\right)^n\n",
    "\\sum_{k=n}^{\\infty} \\frac{q^k}{k^2} \\frac{\\Gamma(k)}{\\Gamma(k-n+1)} -\n",
    "2\\theta \\frac{n}{\\Gamma(n)}\n",
    "\\left( \\frac{p}{q} \\right)^n\n",
    "\\sum_{k=n}^{\\infty} \\frac{q^k}{k} \\frac{\\Gamma(k)}{\\Gamma(k-n+1)} -\n",
    "\\theta^2\n",
    "$$\n",
    "\n",
    "Оценка среднеквадратической ошибки: найти не удалось :("
   ],
   "metadata": {
    "collapsed": false
   }
  },
  {
   "cell_type": "code",
   "execution_count": null,
   "outputs": [],
   "source": [],
   "metadata": {
    "collapsed": false
   }
  }
 ],
 "metadata": {
  "kernelspec": {
   "display_name": "Python 3",
   "language": "python",
   "name": "python3"
  },
  "language_info": {
   "codemirror_mode": {
    "name": "ipython",
    "version": 2
   },
   "file_extension": ".py",
   "mimetype": "text/x-python",
   "name": "python",
   "nbconvert_exporter": "python",
   "pygments_lexer": "ipython2",
   "version": "2.7.6"
  }
 },
 "nbformat": 4,
 "nbformat_minor": 0
}

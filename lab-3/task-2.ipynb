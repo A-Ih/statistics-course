{
 "cells": [
  {
   "cell_type": "markdown",
   "source": [
    "# Задание 2 (Вариант 3)\n",
    "Все выкладки находятся в письменном виде в `notes/*.jpg`\n",
    "\n",
    "Распределение выборки $X_1,\\ldots,X_n$: $U(-\\theta, \\theta)$\n",
    "\n",
    "Нужно провести 1000 экспериментов и посчитать, в скольких из них оцениваемый параметр попал в доверительный интеравал."
   ],
   "metadata": {
    "collapsed": false
   }
  },
  {
   "cell_type": "code",
   "execution_count": 23,
   "outputs": [],
   "source": [
    "import numpy as np\n",
    "import scipy\n",
    "\n",
    "theta = 5\n",
    "\n",
    "alpha = 0.05\n",
    "\n",
    "experiments = 1000\n",
    "\n",
    "def conduct_experiment(n):\n",
    "    '''\n",
    "    :param n: size of the sample (X)\n",
    "    :return: nothing, this function is used purely for side effects\n",
    "    '''\n",
    "    RNG = np.random.default_rng(0)\n",
    "\n",
    "    get_exps = lambda theta, sz: np.array([RNG.uniform(-theta, theta, size=sz) for _ in range(0, experiments)])\n",
    "\n",
    "    x = get_exps(theta, n)\n",
    "\n",
    "    x_min = np.amin(x, axis=1)\n",
    "\n",
    "    q = scipy.stats.expon.ppf\n",
    "\n",
    "    left_border = n * x_min / (2*q(1-alpha/2) - 1)\n",
    "    right_border = n * x_min / (2*q(alpha/2) - 1)\n",
    "\n",
    "    inside_conf_interval = ((x_min < 0) & (left_border <= theta) & (theta <= right_border) | (x_min > 0) & (left_border <= theta)).sum()\n",
    "\n",
    "    print(f'Out of {experiments} experiments, {inside_conf_interval/experiments:.2%} produce confidence interval that fits real value')"
   ],
   "metadata": {
    "collapsed": false
   }
  },
  {
   "cell_type": "code",
   "execution_count": 24,
   "outputs": [
    {
     "name": "stdout",
     "output_type": "stream",
     "text": [
      "Out of 1000 experiments, 100.00% produce confidence interval that fits real value\n"
     ]
    }
   ],
   "source": [
    "conduct_experiment(100)"
   ],
   "metadata": {
    "collapsed": false
   }
  },
  {
   "cell_type": "code",
   "execution_count": 25,
   "outputs": [
    {
     "name": "stdout",
     "output_type": "stream",
     "text": [
      "Out of 1000 experiments, 100.00% produce confidence interval that fits real value\n"
     ]
    }
   ],
   "source": [
    "conduct_experiment(10000)"
   ],
   "metadata": {
    "collapsed": false
   }
  },
  {
   "cell_type": "code",
   "execution_count": 26,
   "outputs": [
    {
     "name": "stdout",
     "output_type": "stream",
     "text": [
      "n=1: Out of 1000 experiments, 55.60% produce confidence interval that fits real value\n",
      "n=2: Out of 1000 experiments, 68.60% produce confidence interval that fits real value\n",
      "n=3: Out of 1000 experiments, 81.00% produce confidence interval that fits real value\n",
      "n=4: Out of 1000 experiments, 91.50% produce confidence interval that fits real value\n",
      "n=5: Out of 1000 experiments, 95.50% produce confidence interval that fits real value\n",
      "n=6: Out of 1000 experiments, 98.20% produce confidence interval that fits real value\n",
      "n=7: Out of 1000 experiments, 99.50% produce confidence interval that fits real value\n",
      "n=8: Out of 1000 experiments, 99.60% produce confidence interval that fits real value\n",
      "n=9: Out of 1000 experiments, 99.80% produce confidence interval that fits real value\n"
     ]
    }
   ],
   "source": [
    "for i in range(1,10):\n",
    "    print(f'n={i}: ', end='')\n",
    "    conduct_experiment(i)"
   ],
   "metadata": {
    "collapsed": false
   }
  },
  {
   "cell_type": "code",
   "execution_count": null,
   "outputs": [],
   "source": [],
   "metadata": {
    "collapsed": false
   }
  }
 ],
 "metadata": {
  "kernelspec": {
   "display_name": "Python 3",
   "language": "python",
   "name": "python3"
  },
  "language_info": {
   "codemirror_mode": {
    "name": "ipython",
    "version": 2
   },
   "file_extension": ".py",
   "mimetype": "text/x-python",
   "name": "python",
   "nbconvert_exporter": "python",
   "pygments_lexer": "ipython2",
   "version": "2.7.6"
  }
 },
 "nbformat": 4,
 "nbformat_minor": 0
}

{
 "cells": [
  {
   "cell_type": "markdown",
   "source": [
    "# Задание 1 (Вариант 1)\n",
    "Все выкладки находятся в письменном виде в `notes/*.jpg`\n",
    "\n",
    "Распределение выборок: $N(0, 1)$\n",
    "\n",
    "Нужно провести 1000 экспериментов и посчитать, в скольких из них оцениваемый параметр попал в доверительный интеравал"
   ],
   "metadata": {
    "collapsed": false
   }
  },
  {
   "cell_type": "code",
   "execution_count": 2,
   "outputs": [],
   "source": [
    "import numpy as np\n",
    "import scipy\n",
    "from math import sqrt\n",
    "\n",
    "mu1 = 2\n",
    "mu2 = 1\n",
    "\n",
    "sigma1 = sqrt(1)\n",
    "sigma2 = sqrt(0.5)\n",
    "\n",
    "alpha = 0.05\n",
    "\n",
    "experiments = 1000\n",
    "\n",
    "def conduct_experiment(n, m):\n",
    "    '''\n",
    "    :param n: size of the first sample (X)\n",
    "    :param m: size of the second sample (Y)\n",
    "    :return: nothing, this function is used purely for side effects\n",
    "    '''\n",
    "    RNG = np.random.default_rng(0)\n",
    "\n",
    "    get_exps = lambda mu, sigma, sz: np.array([RNG.normal(mu, sigma, size=sz) for _ in range(0, experiments)])\n",
    "\n",
    "    x = get_exps(mu1, sigma1, n)\n",
    "    y = get_exps(mu2, sigma2, m)\n",
    "\n",
    "    x_overline = np.sum(x, axis=1) / n\n",
    "    y_overline = np.sum(y, axis=1) / m\n",
    "\n",
    "    sigma = sqrt(sigma1**2/n + sigma2**2/m)\n",
    "    q = scipy.stats.norm.ppf\n",
    "\n",
    "    left_border = sigma * q(alpha/2)+x_overline-y_overline\n",
    "    right_border = x_overline - y_overline - sigma * q(alpha/2)\n",
    "\n",
    "    inside_conf_interval = ((left_border <= mu1 - mu2) & (mu1 - mu2 <= right_border)).sum()\n",
    "\n",
    "    print(f'Out of {experiments} experiments, {inside_conf_interval/experiments:.2%} produce confidence interval that fits real value')"
   ],
   "metadata": {
    "collapsed": false
   }
  },
  {
   "cell_type": "code",
   "execution_count": 3,
   "outputs": [
    {
     "name": "stdout",
     "output_type": "stream",
     "text": [
      "Out of 1000 experiments, 93.00% produce confidence interval that fits real value\n"
     ]
    }
   ],
   "source": [
    "conduct_experiment(100, 100)"
   ],
   "metadata": {
    "collapsed": false
   }
  },
  {
   "cell_type": "code",
   "execution_count": 4,
   "outputs": [
    {
     "name": "stdout",
     "output_type": "stream",
     "text": [
      "Out of 1000 experiments, 95.30% produce confidence interval that fits real value\n"
     ]
    }
   ],
   "source": [
    "conduct_experiment(10000, 10000)"
   ],
   "metadata": {
    "collapsed": false
   }
  },
  {
   "cell_type": "code",
   "execution_count": null,
   "outputs": [],
   "source": [],
   "metadata": {
    "collapsed": false
   }
  }
 ],
 "metadata": {
  "kernelspec": {
   "display_name": "Python 3",
   "language": "python",
   "name": "python3"
  },
  "language_info": {
   "codemirror_mode": {
    "name": "ipython",
    "version": 2
   },
   "file_extension": ".py",
   "mimetype": "text/x-python",
   "name": "python",
   "nbconvert_exporter": "python",
   "pygments_lexer": "ipython2",
   "version": "2.7.6"
  }
 },
 "nbformat": 4,
 "nbformat_minor": 0
}

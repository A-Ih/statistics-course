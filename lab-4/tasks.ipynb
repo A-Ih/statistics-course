{
 "cells": [
  {
   "cell_type": "markdown",
   "source": [
    "# Лабораторная 4 (Вариант 3)\n",
    "Здесь отображены по большей части вычисления, более подробно я расписал на бумаге в `notes/*.jpg`.\n",
    "Есть данные о мобильных телефонах (`data/mobile_phones.csv`)."
   ],
   "metadata": {
    "collapsed": false
   }
  },
  {
   "cell_type": "code",
   "execution_count": 130,
   "outputs": [
    {
     "data": {
      "text/plain": "   battery_power  blue  clock_speed  dual_sim  fc  four_g  int_memory  m_dep  \\\n0            842     0          2.2         0   1       0           7    0.6   \n1           1021     1          0.5         1   0       1          53    0.7   \n2            563     1          0.5         1   2       1          41    0.9   \n3            615     1          2.5         0   0       0          10    0.8   \n4           1821     1          1.2         0  13       1          44    0.6   \n\n   mobile_wt  n_cores  ...  px_height  px_width   ram  sc_h  sc_w  talk_time  \\\n0        188        2  ...         20       756  2549     9     7         19   \n1        136        3  ...        905      1988  2631    17     3          7   \n2        145        5  ...       1263      1716  2603    11     2          9   \n3        131        6  ...       1216      1786  2769    16     8         11   \n4        141        2  ...       1208      1212  1411     8     2         15   \n\n   three_g  touch_screen  wifi  price_range  \n0        0             0     1            1  \n1        1             1     0            2  \n2        1             1     0            2  \n3        1             0     0            2  \n4        1             1     0            1  \n\n[5 rows x 21 columns]",
      "text/html": "<div>\n<style scoped>\n    .dataframe tbody tr th:only-of-type {\n        vertical-align: middle;\n    }\n\n    .dataframe tbody tr th {\n        vertical-align: top;\n    }\n\n    .dataframe thead th {\n        text-align: right;\n    }\n</style>\n<table border=\"1\" class=\"dataframe\">\n  <thead>\n    <tr style=\"text-align: right;\">\n      <th></th>\n      <th>battery_power</th>\n      <th>blue</th>\n      <th>clock_speed</th>\n      <th>dual_sim</th>\n      <th>fc</th>\n      <th>four_g</th>\n      <th>int_memory</th>\n      <th>m_dep</th>\n      <th>mobile_wt</th>\n      <th>n_cores</th>\n      <th>...</th>\n      <th>px_height</th>\n      <th>px_width</th>\n      <th>ram</th>\n      <th>sc_h</th>\n      <th>sc_w</th>\n      <th>talk_time</th>\n      <th>three_g</th>\n      <th>touch_screen</th>\n      <th>wifi</th>\n      <th>price_range</th>\n    </tr>\n  </thead>\n  <tbody>\n    <tr>\n      <th>0</th>\n      <td>842</td>\n      <td>0</td>\n      <td>2.2</td>\n      <td>0</td>\n      <td>1</td>\n      <td>0</td>\n      <td>7</td>\n      <td>0.6</td>\n      <td>188</td>\n      <td>2</td>\n      <td>...</td>\n      <td>20</td>\n      <td>756</td>\n      <td>2549</td>\n      <td>9</td>\n      <td>7</td>\n      <td>19</td>\n      <td>0</td>\n      <td>0</td>\n      <td>1</td>\n      <td>1</td>\n    </tr>\n    <tr>\n      <th>1</th>\n      <td>1021</td>\n      <td>1</td>\n      <td>0.5</td>\n      <td>1</td>\n      <td>0</td>\n      <td>1</td>\n      <td>53</td>\n      <td>0.7</td>\n      <td>136</td>\n      <td>3</td>\n      <td>...</td>\n      <td>905</td>\n      <td>1988</td>\n      <td>2631</td>\n      <td>17</td>\n      <td>3</td>\n      <td>7</td>\n      <td>1</td>\n      <td>1</td>\n      <td>0</td>\n      <td>2</td>\n    </tr>\n    <tr>\n      <th>2</th>\n      <td>563</td>\n      <td>1</td>\n      <td>0.5</td>\n      <td>1</td>\n      <td>2</td>\n      <td>1</td>\n      <td>41</td>\n      <td>0.9</td>\n      <td>145</td>\n      <td>5</td>\n      <td>...</td>\n      <td>1263</td>\n      <td>1716</td>\n      <td>2603</td>\n      <td>11</td>\n      <td>2</td>\n      <td>9</td>\n      <td>1</td>\n      <td>1</td>\n      <td>0</td>\n      <td>2</td>\n    </tr>\n    <tr>\n      <th>3</th>\n      <td>615</td>\n      <td>1</td>\n      <td>2.5</td>\n      <td>0</td>\n      <td>0</td>\n      <td>0</td>\n      <td>10</td>\n      <td>0.8</td>\n      <td>131</td>\n      <td>6</td>\n      <td>...</td>\n      <td>1216</td>\n      <td>1786</td>\n      <td>2769</td>\n      <td>16</td>\n      <td>8</td>\n      <td>11</td>\n      <td>1</td>\n      <td>0</td>\n      <td>0</td>\n      <td>2</td>\n    </tr>\n    <tr>\n      <th>4</th>\n      <td>1821</td>\n      <td>1</td>\n      <td>1.2</td>\n      <td>0</td>\n      <td>13</td>\n      <td>1</td>\n      <td>44</td>\n      <td>0.6</td>\n      <td>141</td>\n      <td>2</td>\n      <td>...</td>\n      <td>1208</td>\n      <td>1212</td>\n      <td>1411</td>\n      <td>8</td>\n      <td>2</td>\n      <td>15</td>\n      <td>1</td>\n      <td>1</td>\n      <td>0</td>\n      <td>1</td>\n    </tr>\n  </tbody>\n</table>\n<p>5 rows × 21 columns</p>\n</div>"
     },
     "execution_count": 130,
     "metadata": {},
     "output_type": "execute_result"
    }
   ],
   "source": [
    "import numpy as np\n",
    "import pandas as pd\n",
    "import matplotlib.pyplot as plt\n",
    "import scipy.stats as stats\n",
    "from IPython.display import display, Markdown\n",
    "\n",
    "def get_verdict(pl, alpha=0.05):\n",
    "    '''\n",
    "    :param pl: p-value the test returned\n",
    "    :param alpha: statistical significance\n",
    "    :return: human-readable verdict\n",
    "    '''\n",
    "    if pl > alpha:\n",
    "        return rf'$H_0$ is accepted ($\\alpha={alpha}$)'\n",
    "    else:\n",
    "        return rf'$H_0$ is rejected in favor of $H_1$ ($\\alpha={alpha}$)'\n",
    "\n",
    "df = pd.read_csv('data/mobile_phones.csv')\n",
    "df.head()"
   ],
   "metadata": {
    "collapsed": false
   }
  },
  {
   "cell_type": "markdown",
   "source": [
    "## Задание 1\n",
    "### Постановка задачи\n",
    "Разумно ли считать, что емкость аккумулятора распределена равномерно?\n",
    "\n",
    "### Решение\n",
    "Здесь нужно сформулировать гипотезу о виде распределения.\n",
    "На лекциях для проверки таких гипотез мы ввели два критерия: Колмогорова-Смирнова и критерий согласия Пирсона (Хи-квадрат).\n",
    "\n",
    "В этой задаче считаем, что емкость аккумулятора имеет непрерывное распределение\n",
    "(это нужно для работы критерия Колмогорова-Смирнова)."
   ],
   "metadata": {
    "collapsed": false
   }
  },
  {
   "cell_type": "code",
   "execution_count": 118,
   "outputs": [
    {
     "data": {
      "text/plain": "<Figure size 640x480 with 1 Axes>",
      "image/png": "[encoded data removed]"
     },
     "metadata": {},
     "output_type": "display_data"
    }
   ],
   "source": [
    "# Посмотрим на то, как выглядит распределение\n",
    "\n",
    "x = df['battery_power'].to_numpy()\n",
    "\n",
    "plt.hist(x, bins=100)\n",
    "plt.show()"
   ],
   "metadata": {
    "collapsed": false
   }
  },
  {
   "cell_type": "markdown",
   "source": [
    "#### Критерий Колмогорова\n",
    "Составим гипотезы:\n",
    "- $H_0$: $X=\\operatorname{battery\\_power}$ имеет распределение $U[\\tilde{\\theta}_1,\\tilde{\\theta}_2]$\n",
    "- $H_1$: $X$ имеет другое распределение\n",
    "Здесь $\\tilde{\\theta}_i$ - это ОМП.\n",
    "Найдём ОМП для нашего датасета:"
   ],
   "metadata": {
    "collapsed": false
   }
  },
  {
   "cell_type": "code",
   "execution_count": 100,
   "outputs": [
    {
     "data": {
      "text/plain": "<IPython.core.display.Markdown object>",
      "text/markdown": "\nResult of one-sample K-S test: $\\sqrt{n}D_n=0.0208$ $\\operatorname{pvalue}=0.349$\n$H_0$ is accepted ($\\alpha=0.05$)\n"
     },
     "metadata": {},
     "output_type": "display_data"
    }
   ],
   "source": [
    "# Проведём one-sample K-S test:\n",
    "\n",
    "# ОМП для параметров распределения:\n",
    "theta1 = x.min()\n",
    "theta2 = x.max()\n",
    "alpha = 0.05\n",
    "\n",
    "null_cdf = lambda x: stats.uniform.cdf(x, loc=theta1, scale=theta2-theta1)\n",
    "\n",
    "kstest_result = stats.ks_1samp(x, null_cdf)\n",
    "s = kstest_result.statistic\n",
    "pl = kstest_result.pvalue\n",
    "\n",
    "display(Markdown(f'''\n",
    "Result of one-sample K-S test: $\\sqrt{{n}}D_n={s:.3}$ $\\operatorname{{pvalue}}={pl:.3}$\n",
    "{get_verdict(pl, alpha)}\n",
    "'''))"
   ],
   "metadata": {
    "collapsed": false
   }
  },
  {
   "cell_type": "markdown",
   "source": [
    "#### Критерий согласия Пирсона (Хи-Квадрат)\n",
    "Здесь мы с помощью `pyplot.hist` сделаем разбиение на отрезки, таким образом\n",
    "все они будут иметь одинаковую длину и нам будет легче сформулировать нулевую\n",
    "гипотезу, а именно: если бы распределение было равномерным, то в каждом отрезке\n",
    "были бы примерно одни и те же частоты. Т.е. имеем такую нулевую гипотезу:\n",
    "- $H_0$: $p=p_0=(\\frac{1}{m},\\ldots,\\frac{1}{m})$\n",
    "- $H_1$: $p \\neq p_0$\n"
   ],
   "metadata": {
    "collapsed": false
   }
  },
  {
   "cell_type": "code",
   "execution_count": 112,
   "outputs": [
    {
     "data": {
      "text/plain": "<IPython.core.display.Markdown object>",
      "text/markdown": "\nResult of Chi-square test: $\\chi_m^2=83.7$ $\\operatorname{pvalue}=0.865$\n$H_0$ is accepted ($\\alpha=0.05$)\n"
     },
     "metadata": {},
     "output_type": "display_data"
    },
    {
     "data": {
      "text/plain": "<Figure size 640x480 with 1 Axes>",
      "image/png": "[encoded data removed]"
     },
     "metadata": {},
     "output_type": "display_data"
    }
   ],
   "source": [
    "freqs, bin_edges, _ = plt.hist(x, bins=100)\n",
    "# Все частоты должны быть ненулевыми\n",
    "assert (freqs > 0).all()\n",
    "# Более того, на лекции рекомендовалось, чтобы все частоты были не меньше 5\n",
    "assert (freqs >= 5).all()\n",
    "\n",
    "chisquare_result = stats.chisquare(freqs)\n",
    "\n",
    "s = chisquare_result.statistic\n",
    "pl = chisquare_result.pvalue\n",
    "\n",
    "display(Markdown(f'''\n",
    "Result of Chi-square test: $\\chi_m^2={s:.3}$ $\\operatorname{{pvalue}}={pl:.3}$\n",
    "{get_verdict(pl, alpha)}\n",
    "'''))"
   ],
   "metadata": {
    "collapsed": false
   }
  },
  {
   "cell_type": "markdown",
   "source": [
    "## Задание 2\n",
    "Здесь на каждый из вопросов нужно один тест.\n",
    "### Вопрос 1\n",
    "Верно ли, что телефонов с поддержкой 3G больше моделей с Wi-Fi?\n",
    "Уточнение: \"верно ли, что вероятность наличия у телефона поддержки 3G больше вероятности?\"\n",
    "\n",
    "### Решение\n",
    "Здесь будет удобно воспользоваться Z-test (\"Зет квадрат\"), т.к. он позволяет удобно настроить альтернативную гипотезу.\n",
    "Пусть $p_1$ - вероятность модели телефона иметь 3G, $p_2$ - вероятность иметь Wifi.\n",
    "Тогда:\n",
    "- $H_0$: $p_1=p_2$\n",
    "- $H_1$: $p_1>p_2$\n",
    "Статистика: $$Z_{n_1n_2}=\n",
    "\\left(\n",
    "    \\frac{\\nu_{11}}{n_1}-\\frac{\\nu_{21}}{n_2}\n",
    "\\right)\n",
    "\\sqrt{\n",
    "    \\frac{n n_1 n_2}{\\nu_{*1} \\nu_{*2}}\n",
    "}$$\n",
    "В данном случае очень важна область принятия нулевой гипотезы: $T_0(\\alpha)=(-\\infty,q_{1-\\alpha})$\n",
    "Понятно, что здесь квантиль от стандартного нормального закона, т.к. $Z_{n_1n_2} \\xrightarrow[n_1,n_2\\rightarrow\\infty]{} Y \\sim N(0,1)$"
   ],
   "metadata": {
    "collapsed": false
   }
  },
  {
   "cell_type": "code",
   "execution_count": 134,
   "outputs": [
    {
     "data": {
      "text/plain": "<IPython.core.display.Markdown object>",
      "text/markdown": "$H_0$ is rejected in favor of $H_1$ ($\\alpha=0.05$)"
     },
     "metadata": {},
     "output_type": "display_data"
    }
   ],
   "source": [
    "def calc_z(a, b):\n",
    "    n1 = len(a)\n",
    "    n2 = len(a)\n",
    "\n",
    "    nu11 = a.sum()\n",
    "    nu12 = n1 - nu11\n",
    "    nu21 = b.sum()\n",
    "    nu22 = n2 - nu21\n",
    "\n",
    "    z = (nu11/n1 - nu21/n2)*((n1 + n2) * n1 * n2 / ((nu11 + nu21)*(nu12 + nu22)))**0.5\n",
    "    return z\n",
    "\n",
    "x3g = df['three_g']\n",
    "xwifi = df['wifi']\n",
    "\n",
    "alpha = 0.05\n",
    "\n",
    "if calc_z(x3g, xwifi) < stats.norm.ppf(1-alpha):\n",
    "    display(Markdown(rf'$H_0$ is accepted ($\\alpha={alpha}$)'))\n",
    "else:\n",
    "    display(Markdown(rf'$H_0$ is rejected in favor of $H_1$ ($\\alpha={alpha}$)'))"
   ],
   "metadata": {
    "collapsed": false
   }
  },
  {
   "cell_type": "markdown",
   "source": [
    "### Вопрос 2\n",
    "Разнится ли количество телефонов с touch screen от моделей с двумя сим-картами?\n",
    "Уточнение: \"верно ли, что вероятность иметь touch screen не равна вероятности иметь две симкарты?\"\n",
    "\n",
    "### Решение\n",
    "Здесь делаем абсолютно то же самое, что и в вопросе 1, но здесь в качестве альтернативы выступает утверждение $p_1 \\neq p_2$.\n",
    "Соответственно, здесь другая область принятия.\n",
    "- $H_0$: $p_1=p_2$\n",
    "- $H_1$: $p_1 \\neq p_2$\n",
    "Статистика: ditto 2.1\n",
    "Область принятия нулевой гипотезы: $T_0(\\alpha)=(-q_{1-\\alpha},q_{1-\\alpha})$\n",
    "Понятно, что здесь квантиль от стандартного нормального закона, т.к. $Z_{n_1n_2} \\xrightarrow[n_1,n_2\\rightarrow\\infty]{} Y \\sim N(0,1)$\n"
   ],
   "metadata": {
    "collapsed": false
   }
  },
  {
   "cell_type": "code",
   "execution_count": 135,
   "outputs": [
    {
     "data": {
      "text/plain": "<IPython.core.display.Markdown object>",
      "text/markdown": "$H_0$ is accepted ($\\alpha=0.05$)"
     },
     "metadata": {},
     "output_type": "display_data"
    }
   ],
   "source": [
    "xtouch = df['touch_screen']\n",
    "xsim = df['dual_sim']\n",
    "\n",
    "alpha = 0.05\n",
    "\n",
    "q = stats.norm.ppf(1-alpha)\n",
    "if -q < calc_z(xtouch, xsim) < q:\n",
    "    display(Markdown(rf'$H_0$ is accepted ($\\alpha={alpha}$)'))\n",
    "else:\n",
    "    display(Markdown(rf'$H_0$ is rejected in favor of $H_1$ ($\\alpha={alpha}$)'))"
   ],
   "metadata": {
    "collapsed": false
   }
  },
  {
   "cell_type": "markdown",
   "source": [
    "## Задание 3\n",
    "### Постановка задачи\n",
    "Есть подозрение, что цена зависит от объема оперативной памяти.\n",
    "Проверите данное утверждение.\n",
    "\n",
    "### Решение\n",
    "Здесь нужно сформулировать гипотезу о зависимости одной выборки от другой.\n",
    "В нашем случае объёмы выборок совпадают.\n",
    "Я выбрал такие критерии для проверки на зависимость: критерий Спирмана и Хи-квадрат."
   ],
   "metadata": {
    "collapsed": false
   }
  },
  {
   "cell_type": "markdown",
   "source": [
    "#### Критерий Спирмана\n",
    "- $H_0$: выборки независимы\n",
    "- $H_1$: $\\neg H_0$\n",
    "Здесь статистика - $\\sqrt{n}\\cdot \\rho$, где $\\rho$ - коэффициент корреляции Спирмана.\n",
    "Причем для статистики известно, что $\\sqrt{n}\\cdot \\rho \\xrightarrow[n\\rightarrow\\infty]{} Y \\sim N(0,1)$\n",
    "Здесь уже можно принимать/опровергать гипоетзу на основании p-value."
   ],
   "metadata": {
    "collapsed": false
   }
  },
  {
   "cell_type": "code",
   "execution_count": 147,
   "outputs": [
    {
     "data": {
      "text/plain": "<IPython.core.display.Markdown object>",
      "text/markdown": "$H_0$ is rejected in favor of $H_1$ ($\\alpha=0.05$)"
     },
     "metadata": {},
     "output_type": "display_data"
    }
   ],
   "source": [
    "xprice = df['price_range']\n",
    "xmem = df['int_memory']\n",
    "\n",
    "rho, pval = stats.spearmanr(xprice, xmem)\n",
    "\n",
    "alpha = 0.05\n",
    "\n",
    "display(Markdown(get_verdict(pval, alpha)))"
   ],
   "metadata": {
    "collapsed": false
   }
  },
  {
   "cell_type": "markdown",
   "source": [
    "#### Хи-квадрат\n",
    "Здесь немного расписано т.к. я воспользовался встроенными инструментами для построения таблицы сопряженности и расчёта статистики/pvalue.\n",
    "- $H_0$: выборки независимы\n",
    "- $H_1$: $\\neg H_0$"
   ],
   "metadata": {
    "collapsed": false
   }
  },
  {
   "cell_type": "code",
   "execution_count": 148,
   "outputs": [
    {
     "data": {
      "text/plain": "<IPython.core.display.Markdown object>",
      "text/markdown": "$H_0$ is accepted ($\\alpha=0.05$)"
     },
     "metadata": {},
     "output_type": "display_data"
    }
   ],
   "source": [
    "# На цены и память нам не надо смотреть, просто распаковал для наглядности, что делает `crosstab`\n",
    "(prices, mems), contingency_table = stats.contingency.crosstab(xprice, xmem)\n",
    "\n",
    "chi2, pvalue, dof, ex = stats.chi2_contingency(contingency_table)\n",
    "\n",
    "# Проверим, что степеней свободы нужное количество\n",
    "assert dof == (len(prices) - 1)*(len(mems) - 1)\n",
    "\n",
    "display(Markdown(get_verdict(pvalue, alpha)))"
   ],
   "metadata": {
    "collapsed": false
   }
  },
  {
   "cell_type": "code",
   "execution_count": null,
   "outputs": [],
   "source": [],
   "metadata": {
    "collapsed": false
   }
  }
 ],
 "metadata": {
  "kernelspec": {
   "display_name": "Python 3",
   "language": "python",
   "name": "python3"
  },
  "language_info": {
   "codemirror_mode": {
    "name": "ipython",
    "version": 2
   },
   "file_extension": ".py",
   "mimetype": "text/x-python",
   "name": "python",
   "nbconvert_exporter": "python",
   "pygments_lexer": "ipython2",
   "version": "2.7.6"
  }
 },
 "nbformat": 4,
 "nbformat_minor": 0
}

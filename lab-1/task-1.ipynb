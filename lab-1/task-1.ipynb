{
 "cells": [
  {
   "cell_type": "markdown",
   "source": [
    "# Задание 1 (моделирование выборки)\n",
    "В варианте 1 у меня получилось `n = 93`.\n",
    "\n",
    "Распределение: `Bern(0.4)`. Нужно сгенерировать 100 выборок"
   ],
   "metadata": {
    "collapsed": false
   }
  },
  {
   "cell_type": "code",
   "execution_count": 29,
   "outputs": [
    {
     "name": "stdout",
     "output_type": "stream",
     "text": [
      "[46 41 34 37 36 37 39 36 49 43 43 43 43 43 41 35 42 42 41 25 45 44 45 43\n",
      " 36 38 37 41 37 44 39 42 40 37 43 47 49 38 40 35 36 38 36 47 47 43 38 44\n",
      " 37 44 47 39 43 38 39 49 44 46 36 42 38 41 46 40 42 42 35 43 39 36 43 49\n",
      " 43 37 41 43 41 36 44 38 39 39 44 33 41 38 39 37 48 39 40 45 46]\n"
     ]
    }
   ],
   "source": [
    "import numpy as np\n",
    "\n",
    "np.random.seed(0)\n",
    "\n",
    "n = 93\n",
    "p = 0.4\n",
    "\n",
    "samples = np.random.binomial(size=n, n=100, p=p)\n",
    "print(samples)"
   ],
   "metadata": {
    "collapsed": false
   }
  },
  {
   "cell_type": "code",
   "execution_count": 30,
   "outputs": [
    {
     "data": {
      "text/plain": "10"
     },
     "execution_count": 30,
     "metadata": {},
     "output_type": "execute_result"
    }
   ],
   "source": [
    "# Посчитаем количество выборок, для которых выборочное среднее отличается от\n",
    "# теоретического больше чем на 0.1\n",
    "theoretical_mean = p\n",
    "sample_mean = samples / n\n",
    "differ = abs(theoretical_mean - sample_mean) > 0.1\n",
    "differ.sum()"
   ],
   "metadata": {
    "collapsed": false
   }
  },
  {
   "cell_type": "code",
   "execution_count": 30,
   "outputs": [],
   "source": [],
   "metadata": {
    "collapsed": false
   }
  }
 ],
 "metadata": {
  "kernelspec": {
   "display_name": "Python 3",
   "language": "python",
   "name": "python3"
  },
  "language_info": {
   "codemirror_mode": {
    "name": "ipython",
    "version": 2
   },
   "file_extension": ".py",
   "mimetype": "text/x-python",
   "name": "python",
   "nbconvert_exporter": "python",
   "pygments_lexer": "ipython2",
   "version": "2.7.6"
  }
 },
 "nbformat": 4,
 "nbformat_minor": 0
}

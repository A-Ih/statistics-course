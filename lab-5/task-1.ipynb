{
 "cells": [
  {
   "cell_type": "markdown",
   "source": [
    "# Задание 1\n",
    "Полезные ссылки:\n",
    "- https://en.wikipedia.org/wiki/Linear_regression\n",
    "- https://en.wikipedia.org/wiki/Least_squares#Solving_the_least_squares_problem\n"
   ],
   "metadata": {
    "collapsed": false
   }
  },
  {
   "cell_type": "code",
   "execution_count": 157,
   "outputs": [
    {
     "data": {
      "text/plain": "     Output      V1      V2      V3      V4      V5      V6      V7      V8  \\\n0   108.997   0.334 -92.123  14.909 -43.866  24.876 -57.008 -51.184 -96.558   \n1   911.877 -60.177 -19.648  14.792  81.555  99.005 -30.756 -12.662 -15.049   \n2  1063.620  88.101  22.545  40.254  -6.953  63.602 -99.745  -6.910  34.521   \n3  -146.979  29.961 -64.830  33.632 -44.687  61.911  42.770  -8.657 -39.879   \n4  -670.859  22.997  82.418  33.892 -89.676 -92.545  95.573  85.631  68.880   \n\n       V9     V10  \n0 -17.006  20.042  \n1  21.225  23.006  \n2  97.959  60.746  \n3 -35.115  71.327  \n4  83.979 -36.734  ",
      "text/html": "<div>\n<style scoped>\n    .dataframe tbody tr th:only-of-type {\n        vertical-align: middle;\n    }\n\n    .dataframe tbody tr th {\n        vertical-align: top;\n    }\n\n    .dataframe thead th {\n        text-align: right;\n    }\n</style>\n<table border=\"1\" class=\"dataframe\">\n  <thead>\n    <tr style=\"text-align: right;\">\n      <th></th>\n      <th>Output</th>\n      <th>V1</th>\n      <th>V2</th>\n      <th>V3</th>\n      <th>V4</th>\n      <th>V5</th>\n      <th>V6</th>\n      <th>V7</th>\n      <th>V8</th>\n      <th>V9</th>\n      <th>V10</th>\n    </tr>\n  </thead>\n  <tbody>\n    <tr>\n      <th>0</th>\n      <td>108.997</td>\n      <td>0.334</td>\n      <td>-92.123</td>\n      <td>14.909</td>\n      <td>-43.866</td>\n      <td>24.876</td>\n      <td>-57.008</td>\n      <td>-51.184</td>\n      <td>-96.558</td>\n      <td>-17.006</td>\n      <td>20.042</td>\n    </tr>\n    <tr>\n      <th>1</th>\n      <td>911.877</td>\n      <td>-60.177</td>\n      <td>-19.648</td>\n      <td>14.792</td>\n      <td>81.555</td>\n      <td>99.005</td>\n      <td>-30.756</td>\n      <td>-12.662</td>\n      <td>-15.049</td>\n      <td>21.225</td>\n      <td>23.006</td>\n    </tr>\n    <tr>\n      <th>2</th>\n      <td>1063.620</td>\n      <td>88.101</td>\n      <td>22.545</td>\n      <td>40.254</td>\n      <td>-6.953</td>\n      <td>63.602</td>\n      <td>-99.745</td>\n      <td>-6.910</td>\n      <td>34.521</td>\n      <td>97.959</td>\n      <td>60.746</td>\n    </tr>\n    <tr>\n      <th>3</th>\n      <td>-146.979</td>\n      <td>29.961</td>\n      <td>-64.830</td>\n      <td>33.632</td>\n      <td>-44.687</td>\n      <td>61.911</td>\n      <td>42.770</td>\n      <td>-8.657</td>\n      <td>-39.879</td>\n      <td>-35.115</td>\n      <td>71.327</td>\n    </tr>\n    <tr>\n      <th>4</th>\n      <td>-670.859</td>\n      <td>22.997</td>\n      <td>82.418</td>\n      <td>33.892</td>\n      <td>-89.676</td>\n      <td>-92.545</td>\n      <td>95.573</td>\n      <td>85.631</td>\n      <td>68.880</td>\n      <td>83.979</td>\n      <td>-36.734</td>\n    </tr>\n  </tbody>\n</table>\n</div>"
     },
     "execution_count": 157,
     "metadata": {},
     "output_type": "execute_result"
    }
   ],
   "source": [
    "import numpy as np\n",
    "import pandas as pd\n",
    "import scipy\n",
    "from math import sqrt\n",
    "from IPython.display import display, Markdown\n",
    "\n",
    "df = pd.read_csv('data/lin-reg.csv')\n",
    "df.head()"
   ],
   "metadata": {
    "collapsed": false
   }
  },
  {
   "cell_type": "markdown",
   "source": [
    "## (a)\n",
    "Выкладки в `notes/1.jpg`"
   ],
   "metadata": {
    "collapsed": false
   }
  },
  {
   "cell_type": "code",
   "execution_count": 158,
   "outputs": [
    {
     "data": {
      "text/plain": "<IPython.core.display.Markdown object>",
      "text/markdown": "\n$n=100$ $k=11$\n"
     },
     "metadata": {},
     "output_type": "display_data"
    }
   ],
   "source": [
    "y = df['Output'].copy()\n",
    "x = df.to_numpy().copy()\n",
    "# Make a dummy column\n",
    "x[:,0] = 1\n",
    "\n",
    "n, k = x.shape\n",
    "\n",
    "display(Markdown(f'''\n",
    "$n={n}$ $k={k}$\n",
    "'''))"
   ],
   "metadata": {
    "collapsed": false
   }
  },
  {
   "cell_type": "code",
   "execution_count": 159,
   "outputs": [
    {
     "data": {
      "text/plain": "<IPython.core.display.Markdown object>",
      "text/markdown": "\nОНК $c$:\n$$\n\\hat{c}=\n\\left(\n    \\begin{smallmatrix}\n        -0.173\\\\1.08\\\\1.96\\\\2.98\\\\3.97\\\\5.07\\\\-5.01\\\\4.11\\\\-3.02\\\\2.1\\\\-0.983\n    \\end{smallmatrix}\n\\right)\n$$\n"
     },
     "metadata": {},
     "output_type": "display_data"
    },
    {
     "data": {
      "text/plain": "<IPython.core.display.Markdown object>",
      "text/markdown": "\nОценка остаточной дисперсии: $$\\hat{\\sigma^2}=852.003$$\n"
     },
     "metadata": {},
     "output_type": "display_data"
    }
   ],
   "source": [
    "# Calculate least squares estimation for c (c_hat)\n",
    "e = np.identity(n)\n",
    "x_t = x.transpose()\n",
    "a = x_t @ x\n",
    "\n",
    "try:\n",
    "    a_inv = np.linalg.inv(a)\n",
    "except np.LinAlgError:\n",
    "    print('Cannot proceed with uninvertible matrix a :(')\n",
    "    raise\n",
    "\n",
    "c_hat = a_inv @ x_t @ y\n",
    "\n",
    "delim = r'\\\\'\n",
    "display(Markdown(f'''\n",
    "ОНК $c$:\n",
    "$$\n",
    "\\\\hat{{c}}=\n",
    "\\\\left(\n",
    "    \\\\begin{{smallmatrix}}\n",
    "        {delim.join(f'{c_i:.3}' for c_i in c_hat)}\n",
    "    \\\\end{{smallmatrix}}\n",
    "\\\\right)\n",
    "$$\n",
    "'''))\n",
    "\n",
    "# Estimation of variance\n",
    "tmp = y - x @ c_hat\n",
    "s_sq = np.dot(tmp.transpose(), tmp)\n",
    "sigma_sq = s_sq / (n - k)\n",
    "\n",
    "display(Markdown(f'''\n",
    "Оценка остаточной дисперсии: $$\\\\hat{{\\\\sigma^2}}={sigma_sq:.3f}$$\n",
    "'''))"
   ],
   "metadata": {
    "collapsed": false
   }
  },
  {
   "cell_type": "markdown",
   "source": [
    "## (b)\n",
    "Выкладки в `notes/2.jpg`"
   ],
   "metadata": {
    "collapsed": false
   }
  },
  {
   "cell_type": "code",
   "execution_count": 160,
   "outputs": [
    {
     "data": {
      "text/plain": "<IPython.core.display.Markdown object>",
      "text/markdown": "\nДоверительные интервалы для $c$: $$c_{ 0 } \\in [-6.268, 5.922]\\\\c_{ 1 } \\in [0.964, 1.187]\\\\c_{ 2 } \\in [1.853, 2.061]\\\\c_{ 3 } \\in [2.869, 3.098]\\\\c_{ 4 } \\in [3.864, 4.075]\\\\c_{ 5 } \\in [4.970, 5.163]\\\\c_{ 6 } \\in [-5.112, -4.907]\\\\c_{ 7 } \\in [4.003, 4.216]\\\\c_{ 8 } \\in [-3.126, -2.911]\\\\c_{ 9 } \\in [1.997, 2.196]\\\\c_{ 10 } \\in [-1.091, -0.875]$$\n"
     },
     "metadata": {},
     "output_type": "display_data"
    },
    {
     "data": {
      "text/plain": "<IPython.core.display.Markdown object>",
      "text/markdown": "\nДоверительный интервал для $\\sigma^2$: $$\\sigma^2 \\in [648.165, 1170.309]$$\n"
     },
     "metadata": {},
     "output_type": "display_data"
    }
   ],
   "source": [
    "# Find the confidence intervals for c_i\n",
    "alpha = 0.05\n",
    "\n",
    "# TODO: remove list comprehension?\n",
    "tmp = np.array([sqrt(a_inv_ii * s_sq / (n - k)) for a_inv_ii in np.diag(a_inv)])\n",
    "left_border = c_hat - tmp * scipy.stats.t.ppf(1 - alpha/2, n - k)\n",
    "right_border = c_hat - tmp * scipy.stats.t.ppf(alpha/2, n - k)\n",
    "\n",
    "intervals = zip(range(k), left_border, right_border)\n",
    "\n",
    "display(Markdown(r'''\n",
    "Доверительные интервалы для $c$: $${}$$\n",
    "'''.format(delim.join(f'c_{{ {i} }} \\\\in [{lb:.3f}, {rb:.3f}]' for i, lb, rb in intervals))))\n",
    "\n",
    "# Find confidence intervals for variance\n",
    "\n",
    "left_border = s_sq / scipy.stats.chi2.ppf(1 - alpha/2, n - k)\n",
    "right_border = s_sq / scipy.stats.chi2.ppf(alpha/2, n - k)\n",
    "\n",
    "display(Markdown(f'''\n",
    "Доверительный интервал для $\\sigma^2$: $$\\sigma^2 \\in [{left_border:.3f}, {right_border:.3f}]$$\n",
    "'''))"
   ],
   "metadata": {
    "collapsed": false
   }
  },
  {
   "cell_type": "markdown",
   "source": [
    "## (c)\n",
    "Выкладки в `notes/3.jpg`"
   ],
   "metadata": {
    "collapsed": false
   }
  },
  {
   "cell_type": "code",
   "execution_count": 161,
   "outputs": [
    {
     "data": {
      "text/plain": "<IPython.core.display.Markdown object>",
      "text/markdown": "Confidence interval for t-statistic is $[-1.987, 1.987]$"
     },
     "metadata": {},
     "output_type": "display_data"
    },
    {
     "data": {
      "text/plain": "<IPython.core.display.Markdown object>",
      "text/markdown": "Inside confidence interval: $t=-0.057$, $p=0.955$"
     },
     "metadata": {},
     "output_type": "display_data"
    },
    {
     "data": {
      "text/plain": "<IPython.core.display.Markdown object>",
      "text/markdown": "Outside confidence interval: $t=19.230$, $p=0.000$"
     },
     "metadata": {},
     "output_type": "display_data"
    },
    {
     "data": {
      "text/plain": "<IPython.core.display.Markdown object>",
      "text/markdown": "Outside confidence interval: $t=37.324$, $p=0.000$"
     },
     "metadata": {},
     "output_type": "display_data"
    },
    {
     "data": {
      "text/plain": "<IPython.core.display.Markdown object>",
      "text/markdown": "Outside confidence interval: $t=51.910$, $p=0.000$"
     },
     "metadata": {},
     "output_type": "display_data"
    },
    {
     "data": {
      "text/plain": "<IPython.core.display.Markdown object>",
      "text/markdown": "Outside confidence interval: $t=74.740$, $p=0.000$"
     },
     "metadata": {},
     "output_type": "display_data"
    },
    {
     "data": {
      "text/plain": "<IPython.core.display.Markdown object>",
      "text/markdown": "Outside confidence interval: $t=104.141$, $p=0.000$"
     },
     "metadata": {},
     "output_type": "display_data"
    },
    {
     "data": {
      "text/plain": "<IPython.core.display.Markdown object>",
      "text/markdown": "Outside confidence interval: $t=-97.043$, $p=0.000$"
     },
     "metadata": {},
     "output_type": "display_data"
    },
    {
     "data": {
      "text/plain": "<IPython.core.display.Markdown object>",
      "text/markdown": "Outside confidence interval: $t=76.596$, $p=0.000$"
     },
     "metadata": {},
     "output_type": "display_data"
    },
    {
     "data": {
      "text/plain": "<IPython.core.display.Markdown object>",
      "text/markdown": "Outside confidence interval: $t=-55.719$, $p=0.000$"
     },
     "metadata": {},
     "output_type": "display_data"
    },
    {
     "data": {
      "text/plain": "<IPython.core.display.Markdown object>",
      "text/markdown": "Outside confidence interval: $t=41.763$, $p=0.000$"
     },
     "metadata": {},
     "output_type": "display_data"
    },
    {
     "data": {
      "text/plain": "<IPython.core.display.Markdown object>",
      "text/markdown": "Outside confidence interval: $t=-18.062$, $p=0.000$"
     },
     "metadata": {},
     "output_type": "display_data"
    }
   ],
   "source": [
    "# Calculate statistic for t-test\n",
    "t_stat = sqrt(n - k) * c_hat / np.sqrt(s_sq * np.diag(a_inv))\n",
    "\n",
    "lb, rb = scipy.stats.t.ppf(alpha/2, n - k), scipy.stats.t.ppf(1-alpha/2, n - k)\n",
    "\n",
    "# Test hypotheses via confidence interval and p-value\n",
    "display(Markdown(f'Confidence interval for t-statistic is $[{lb:.3f}, {rb:.3f}]$'))\n",
    "for i, stat in zip(range(k), t_stat):\n",
    "    p_value = 2 * min(scipy.stats.t.cdf(stat, n - k), 1 - scipy.stats.t.cdf(stat, n - k))\n",
    "    if lb <= stat <= rb:\n",
    "        assert p_value >= alpha\n",
    "        display(Markdown(f'Inside confidence interval: $t={stat:.3f}$, $p={p_value:.3f}$'))\n",
    "    else:\n",
    "        assert p_value <= alpha\n",
    "        display(Markdown(f'Outside confidence interval: $t={stat:.3f}$, $p={p_value:.3f}$'))"
   ],
   "metadata": {
    "collapsed": false
   }
  },
  {
   "cell_type": "markdown",
   "source": [
    "## (d)\n",
    "Выкладки в `notes/4.jpg`"
   ],
   "metadata": {
    "collapsed": false
   }
  },
  {
   "cell_type": "code",
   "execution_count": 164,
   "outputs": [
    {
     "data": {
      "text/plain": "<IPython.core.display.Markdown object>",
      "text/markdown": "Hypothesis $H_0$ is denied (p-value is $p=0.000$)"
     },
     "metadata": {},
     "output_type": "display_data"
    }
   ],
   "source": [
    "m = 3\n",
    "t = np.zeros((m, k))\n",
    "t[0,3] = 1\n",
    "t[1,8] = 1\n",
    "t[2,10] = 1\n",
    "\n",
    "d = t @ a_inv @ t.transpose()\n",
    "\n",
    "try:\n",
    "    d_inv = np.linalg.inv(d)\n",
    "except np.LinAlgError:\n",
    "    print('Cannot proceed with uninvertible matrix d :(')\n",
    "    raise\n",
    "\n",
    "qt = (t @ c_hat).transpose() @ d_inv @ t @ c_hat\n",
    "\n",
    "f_stat = (n - k) / m * qt / s_sq\n",
    "\n",
    "lb = scipy.stats.f.ppf(1 - alpha, m, n - k)\n",
    "\n",
    "p_r = 1 - scipy.stats.f.cdf(f_stat, m, n - k)\n",
    "if lb <= f_stat:\n",
    "    assert p_r <= alpha\n",
    "    display(Markdown(f'Hypothesis $H_0$ is denied (p-value is $p={p_r:.3f}$)'))\n",
    "else:\n",
    "    assert p_r >= alpha\n",
    "    display(Markdown(f'Hypothesis $H_0$ is not denied (p-value is $p={p_r:.3f}$)'))"
   ],
   "metadata": {
    "collapsed": false
   }
  },
  {
   "cell_type": "code",
   "execution_count": 162,
   "outputs": [],
   "source": [],
   "metadata": {
    "collapsed": false
   }
  }
 ],
 "metadata": {
  "kernelspec": {
   "display_name": "Python 3",
   "language": "python",
   "name": "python3"
  },
  "language_info": {
   "codemirror_mode": {
    "name": "ipython",
    "version": 2
   },
   "file_extension": ".py",
   "mimetype": "text/x-python",
   "name": "python",
   "nbconvert_exporter": "python",
   "pygments_lexer": "ipython2",
   "version": "2.7.6"
  }
 },
 "nbformat": 4,
 "nbformat_minor": 0
}

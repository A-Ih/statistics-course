{
 "cells": [
  {
   "cell_type": "markdown",
   "source": [
    "# Задание 2\n",
    "Полезные ссылки:\n",
    "- https://en.wikipedia.org/wiki/One-way_analysis_of_variance\n",
    "\n",
    "Все выкладки находятся в файле `notes/5.jpg`"
   ],
   "metadata": {
    "collapsed": false
   }
  },
  {
   "cell_type": "code",
   "execution_count": 2,
   "outputs": [
    {
     "data": {
      "text/plain": "     0     1     2     3     4     5     6     7     8     9   ...    90  \\\n0  3.77  4.03  5.21  4.48  4.93  5.58  5.27  5.71  6.30  5.62  ...  3.55   \n1  5.42  4.82  5.65  4.78  4.19  4.38  5.29  5.12  4.60  4.65  ...  5.68   \n2  4.24  4.69  5.10  5.00  4.25  4.53  5.43  6.61  4.20  4.58  ...  4.33   \n3  4.82  5.94  5.03  5.75  4.77  5.20  4.83  5.16  4.47  4.52  ...  5.19   \n4  5.21  4.66  4.29  4.05  4.29  6.47  4.40  5.57  5.78  5.36  ...  4.65   \n\n     91    92    93    94    95    96    97    98    99  \n0  5.16  4.78  5.46  4.18  5.92  4.51  4.24  5.25  4.54  \n1  3.75  4.78  5.92  4.78  6.07  5.44  5.37  4.12  5.51  \n2  4.98  5.57  5.57  3.75  5.60  4.37  3.58  5.24  5.18  \n3  4.39  4.71  4.41  5.95  5.57  6.13  4.20  5.37  5.24  \n4  4.68  6.05  6.22  4.86  4.15  5.60  4.93  4.45  4.71  \n\n[5 rows x 100 columns]",
      "text/html": "<div>\n<style scoped>\n    .dataframe tbody tr th:only-of-type {\n        vertical-align: middle;\n    }\n\n    .dataframe tbody tr th {\n        vertical-align: top;\n    }\n\n    .dataframe thead th {\n        text-align: right;\n    }\n</style>\n<table border=\"1\" class=\"dataframe\">\n  <thead>\n    <tr style=\"text-align: right;\">\n      <th></th>\n      <th>0</th>\n      <th>1</th>\n      <th>2</th>\n      <th>3</th>\n      <th>4</th>\n      <th>5</th>\n      <th>6</th>\n      <th>7</th>\n      <th>8</th>\n      <th>9</th>\n      <th>...</th>\n      <th>90</th>\n      <th>91</th>\n      <th>92</th>\n      <th>93</th>\n      <th>94</th>\n      <th>95</th>\n      <th>96</th>\n      <th>97</th>\n      <th>98</th>\n      <th>99</th>\n    </tr>\n  </thead>\n  <tbody>\n    <tr>\n      <th>0</th>\n      <td>3.77</td>\n      <td>4.03</td>\n      <td>5.21</td>\n      <td>4.48</td>\n      <td>4.93</td>\n      <td>5.58</td>\n      <td>5.27</td>\n      <td>5.71</td>\n      <td>6.30</td>\n      <td>5.62</td>\n      <td>...</td>\n      <td>3.55</td>\n      <td>5.16</td>\n      <td>4.78</td>\n      <td>5.46</td>\n      <td>4.18</td>\n      <td>5.92</td>\n      <td>4.51</td>\n      <td>4.24</td>\n      <td>5.25</td>\n      <td>4.54</td>\n    </tr>\n    <tr>\n      <th>1</th>\n      <td>5.42</td>\n      <td>4.82</td>\n      <td>5.65</td>\n      <td>4.78</td>\n      <td>4.19</td>\n      <td>4.38</td>\n      <td>5.29</td>\n      <td>5.12</td>\n      <td>4.60</td>\n      <td>4.65</td>\n      <td>...</td>\n      <td>5.68</td>\n      <td>3.75</td>\n      <td>4.78</td>\n      <td>5.92</td>\n      <td>4.78</td>\n      <td>6.07</td>\n      <td>5.44</td>\n      <td>5.37</td>\n      <td>4.12</td>\n      <td>5.51</td>\n    </tr>\n    <tr>\n      <th>2</th>\n      <td>4.24</td>\n      <td>4.69</td>\n      <td>5.10</td>\n      <td>5.00</td>\n      <td>4.25</td>\n      <td>4.53</td>\n      <td>5.43</td>\n      <td>6.61</td>\n      <td>4.20</td>\n      <td>4.58</td>\n      <td>...</td>\n      <td>4.33</td>\n      <td>4.98</td>\n      <td>5.57</td>\n      <td>5.57</td>\n      <td>3.75</td>\n      <td>5.60</td>\n      <td>4.37</td>\n      <td>3.58</td>\n      <td>5.24</td>\n      <td>5.18</td>\n    </tr>\n    <tr>\n      <th>3</th>\n      <td>4.82</td>\n      <td>5.94</td>\n      <td>5.03</td>\n      <td>5.75</td>\n      <td>4.77</td>\n      <td>5.20</td>\n      <td>4.83</td>\n      <td>5.16</td>\n      <td>4.47</td>\n      <td>4.52</td>\n      <td>...</td>\n      <td>5.19</td>\n      <td>4.39</td>\n      <td>4.71</td>\n      <td>4.41</td>\n      <td>5.95</td>\n      <td>5.57</td>\n      <td>6.13</td>\n      <td>4.20</td>\n      <td>5.37</td>\n      <td>5.24</td>\n    </tr>\n    <tr>\n      <th>4</th>\n      <td>5.21</td>\n      <td>4.66</td>\n      <td>4.29</td>\n      <td>4.05</td>\n      <td>4.29</td>\n      <td>6.47</td>\n      <td>4.40</td>\n      <td>5.57</td>\n      <td>5.78</td>\n      <td>5.36</td>\n      <td>...</td>\n      <td>4.65</td>\n      <td>4.68</td>\n      <td>6.05</td>\n      <td>6.22</td>\n      <td>4.86</td>\n      <td>4.15</td>\n      <td>5.60</td>\n      <td>4.93</td>\n      <td>4.45</td>\n      <td>4.71</td>\n    </tr>\n  </tbody>\n</table>\n<p>5 rows × 100 columns</p>\n</div>"
     },
     "execution_count": 2,
     "metadata": {},
     "output_type": "execute_result"
    }
   ],
   "source": [
    "import numpy as np\n",
    "import pandas as pd\n",
    "import scipy\n",
    "from IPython.display import display, Markdown\n",
    "\n",
    "df = pd.read_csv('data/one-way-anova.txt', header=None)\n",
    "df.head()"
   ],
   "metadata": {
    "collapsed": false
   }
  },
  {
   "cell_type": "code",
   "execution_count": 17,
   "outputs": [
    {
     "data": {
      "text/plain": "<IPython.core.display.Markdown object>",
      "text/markdown": "Hypothesis $H_0$ is not denied (p-value is $p=0.997$)"
     },
     "metadata": {},
     "output_type": "display_data"
    }
   ],
   "source": [
    "y = df.to_numpy()\n",
    "y_ast = np.mean(y, axis=1).copy()\n",
    "y_over = y.mean().copy()\n",
    "\n",
    "I, J = y.shape\n",
    "n = I * J\n",
    "\n",
    "s_b_inter = I * ((y_ast - y_over)**2).sum()\n",
    "\n",
    "tmp = np.full((J, I), y_ast).transpose()\n",
    "s_w_inner = ((y - tmp)**2).sum()\n",
    "\n",
    "f_stat = (n - I) / (I - 1) * s_b_inter / s_w_inner\n",
    "\n",
    "alpha = 0.05\n",
    "lb = scipy.stats.f.ppf(1 - alpha, I - 1, n - I)\n",
    "p_r = 1 - scipy.stats.f.cdf(f_stat, I - 1, n - I)\n",
    "\n",
    "if lb <= f_stat:\n",
    "    assert p_r <= alpha\n",
    "    display(Markdown(f'Hypothesis $H_0$ is denied (p-value is $p={p_r:.3f}$)'))\n",
    "else:\n",
    "    assert p_r >= alpha\n",
    "    display(Markdown(f'Hypothesis $H_0$ is not denied (p-value is $p={p_r:.3f}$)'))"
   ],
   "metadata": {
    "collapsed": false
   }
  },
  {
   "cell_type": "code",
   "execution_count": null,
   "outputs": [],
   "source": [],
   "metadata": {
    "collapsed": false
   }
  }
 ],
 "metadata": {
  "kernelspec": {
   "display_name": "Python 3",
   "language": "python",
   "name": "python3"
  },
  "language_info": {
   "codemirror_mode": {
    "name": "ipython",
    "version": 2
   },
   "file_extension": ".py",
   "mimetype": "text/x-python",
   "name": "python",
   "nbconvert_exporter": "python",
   "pygments_lexer": "ipython2",
   "version": "2.7.6"
  }
 },
 "nbformat": 4,
 "nbformat_minor": 0
}
